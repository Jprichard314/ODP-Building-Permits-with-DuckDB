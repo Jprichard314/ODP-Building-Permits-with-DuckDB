{
 "cells": [
  {
   "cell_type": "code",
   "execution_count": 2,
   "metadata": {},
   "outputs": [],
   "source": [
    "# Polar and Polar Types\n",
    "import polars\n",
    "from polars.datatypes import Datetime\n",
    "\n",
    "# Pandera types\n",
    "import pandera.polars as pa\n",
    "from pandera.typing import Series\n",
    "\n",
    "# Base Python Dependencies\n",
    "from datetime import datetime\n",
    "import json\n",
    "\n",
    "# Import DuckDb\n",
    "import duckdb\n",
    "\n",
    "# Custom Code\n",
    "from src.pyUtils.apis import phillyOpenData"
   ]
  },
  {
   "cell_type": "markdown",
   "metadata": {},
   "source": [
    "# Workflow:\n",
    "1) Ingest Data from OpenDataPhilly\n",
    "2) Run a quick set of validations against the data, checking for the following:\n",
    "    - Unique identifier:\n",
    "    - Date range is appropriate for the following:\n",
    "    - Data Types are correct for:\n",
    "      - one is int\n",
    "    - \n",
    "3) Load to a DuckDB Database\n",
    "4) Use DBT to create reporting aggregates."
   ]
  },
  {
   "cell_type": "markdown",
   "metadata": {},
   "source": [
    "## Work:"
   ]
  },
  {
   "cell_type": "markdown",
   "metadata": {},
   "source": [
    "### Ingest Data "
   ]
  },
  {
   "cell_type": "code",
   "execution_count": 4,
   "metadata": {},
   "outputs": [],
   "source": [
    "# import data:\n",
    "query = phillyOpenData.writeDateTimeFilter(\n",
    "    end_date = datetime.today().date().strftime('%m/%d/%Y'),\n",
    "    interval = 12,\n",
    "    base_query = \"SELECT * FROM PERMITS\",\n",
    "    date_field = 'permitissuedate'\n",
    ")\n",
    "\n",
    "data = (phillyOpenData.cartoApi(query)\n",
    "                      .queryDataframe()\n",
    "                      .with_columns(\n",
    "                          polars.col(\"permitissuedate\")\n",
    "                                .str.to_date(format = \"%Y-%m-%d %H:%M:%S%#z\")\n",
    "                      )\n",
    "\n",
    "        )\n"
   ]
  },
  {
   "cell_type": "markdown",
   "metadata": {},
   "source": [
    "### Validate with Pandera"
   ]
  },
  {
   "cell_type": "markdown",
   "metadata": {},
   "source": [
    "#### Validation"
   ]
  },
  {
   "cell_type": "code",
   "execution_count": 5,
   "metadata": {},
   "outputs": [],
   "source": [
    "import polars.datatypes\n",
    "\n",
    "\n",
    "schema = pa.DataFrameSchema(\n",
    "    {\n",
    "          \"cartodb_id\":pa.Column(int)\n",
    "        , \"systemofrecord\":pa.Column(\n",
    "            str,pa.Check.isin(['ECLIPSE'])\n",
    "        )\n",
    "        , \"permitissuedate\":pa.Column(polars.datatypes.Date)\n",
    "    },\n",
    "    unique = ['cartodb_id'],\n",
    "    coerce = True\n",
    "\n",
    ")\n",
    "\n",
    "try:\n",
    "    (\n",
    "    schema.validate(data,\n",
    "                    lazy = True)\n",
    "            .write_parquet('data/raw/raw__permits.parquet')\n",
    "    )\n",
    "    \n",
    "except pa.errors.SchemaError as exc:\n",
    "    print(exc)"
   ]
  },
  {
   "cell_type": "markdown",
   "metadata": {},
   "source": [
    "### DBT for Reporting"
   ]
  },
  {
   "cell_type": "markdown",
   "metadata": {},
   "source": [
    "#### Reporting we need to capture:\n",
    "- Exploratory Values:\n",
    "  - Words\n",
    "- Metrics:\n"
   ]
  },
  {
   "cell_type": "markdown",
   "metadata": {},
   "source": [
    "# Deprecated"
   ]
  },
  {
   "cell_type": "markdown",
   "metadata": {},
   "source": [
    "## Ingest Data"
   ]
  },
  {
   "cell_type": "code",
   "execution_count": 2,
   "metadata": {},
   "outputs": [],
   "source": [
    "# import data:\n",
    "query = phillyOpenData.writeDateTimeFilter(\n",
    "    end_date = datetime.today().date().strftime('%m/%d/%Y'),\n",
    "    interval = 12,\n",
    "    base_query = \"SELECT * FROM PERMITS\",\n",
    "    date_field = 'permitissuedate'\n",
    ")\n",
    "\n",
    "data = phillyOpenData.cartoApi(query).queryDataframe()"
   ]
  },
  {
   "cell_type": "code",
   "execution_count": 9,
   "metadata": {},
   "outputs": [
    {
     "name": "stdout",
     "output_type": "stream",
     "text": [
      "\n",
      "Permits Returned: 94051\n",
      "Earliest Permit Issue Date: 2022-06-12 01:30:51+00\n",
      "Latest Permit Issue Date: 2024-06-11 21:00:58+00\n",
      "\n"
     ]
    }
   ],
   "source": [
    "# This is just a quick set of information on the dataframe\n",
    "print__ingest_stats = f\"\"\"\n",
    "Permits Returned: {data.shape[0]}\n",
    "Earliest Permit Issue Date: {\n",
    "    data.select(\n",
    "        polars.min('permitissuedate')\n",
    "    ).item()\n",
    "}\n",
    "Latest Permit Issue Date: {\n",
    "    data.select(\n",
    "        polars.max('permitissuedate')\n",
    "    ).item()\n",
    "}\n",
    "\"\"\"\n",
    "\n",
    "print(print__ingest_stats)"
   ]
  },
  {
   "cell_type": "markdown",
   "metadata": {},
   "source": [
    "## Pandera"
   ]
  },
  {
   "cell_type": "markdown",
   "metadata": {},
   "source": [
    "## Demo: Working Example.\n",
    "- In this example, create a schema, evaluate it against the dataframe return the dataframe if it evaluates without error -- which it should.\n"
   ]
  },
  {
   "cell_type": "code",
   "execution_count": 10,
   "metadata": {},
   "outputs": [],
   "source": [
    "# Create a schema to evaluate the dataframe\n",
    "schema = pa.DataFrameSchema(\n",
    "    {\n",
    "        \"cartodb_id\":pa.Column(int),\n",
    "        \"unit_type\":pa.Column(str, nullable=True),\n",
    "        \"geocode_x\":pa.Column(float, nullable = True)\n",
    "    }\n",
    ")"
   ]
  },
  {
   "cell_type": "code",
   "execution_count": 11,
   "metadata": {},
   "outputs": [
    {
     "data": {
      "text/plain": [
       "(94051, 34)"
      ]
     },
     "execution_count": 11,
     "metadata": {},
     "output_type": "execute_result"
    }
   ],
   "source": [
    "# We're using lazy validation to raise all failed checks against the dataframe\n",
    "try:\n",
    "    z = schema.validate(data, lazy= True)\n",
    "except pa.errors.SchemaErrors as exc:\n",
    "    print(json.dumps(exc.message, indent=2))\n",
    "\n",
    "z.shape"
   ]
  },
  {
   "cell_type": "markdown",
   "metadata": {},
   "source": [
    "## Demo: Throw an error if a column doesn't exist in the schema\n",
    "- In this example, we raise an exception because the dataset includes fields which are not included in the schema."
   ]
  },
  {
   "cell_type": "code",
   "execution_count": 12,
   "metadata": {},
   "outputs": [],
   "source": [
    "schema = pa.DataFrameSchema(\n",
    "    {\n",
    "        \"cartodb_id\":pa.Column(int),\n",
    "        \"unit_type\":pa.Column(str, nullable=True),\n",
    "        \"geocode_x\":pa.Column(float, nullable = True)\n",
    "    },\n",
    "    strict=True\n",
    ")"
   ]
  },
  {
   "cell_type": "code",
   "execution_count": 13,
   "metadata": {},
   "outputs": [
    {
     "name": "stdout",
     "output_type": "stream",
     "text": [
      "{\n",
      "  \"SCHEMA\": {\n",
      "    \"COLUMN_NOT_IN_SCHEMA\": [\n",
      "      {\n",
      "        \"schema\": null,\n",
      "        \"column\": null,\n",
      "        \"check\": \"column_in_schema\",\n",
      "        \"error\": \"column 'the_geom' not in DataFrameSchema {'cartodb_id': <Schema Column(name=cartodb_id, type=DataType(Int64))>, 'unit_type': <Schema Column(name=unit_type, type=DataType(String))>, 'geocode_x': <Schema Column(name=geocode_x, type=DataType(Float64))>}\"\n",
      "      }\n",
      "    ]\n",
      "  }\n",
      "}\n"
     ]
    }
   ],
   "source": [
    "try:\n",
    "    z = schema.validate(data, lazy= True)\n",
    "except pa.errors.SchemaErrors as exc:\n",
    "    print(json.dumps(exc.message, indent=2))\n"
   ]
  },
  {
   "cell_type": "markdown",
   "metadata": {},
   "source": [
    "## Demo: Failed row checks in a lazy evaluation, formatted as an object.\n",
    "\n",
    "- Create a validation object as a class, not a schema\n",
    "- The valdation will have a set of checks that the rows in the dataframe will fail.\n",
    "- We'll return the failed rows\n",
    "\n",
    "As a note -- it does look like this function isn't available for polars:"
   ]
  },
  {
   "cell_type": "code",
   "execution_count": 15,
   "metadata": {},
   "outputs": [],
   "source": []
  },
  {
   "cell_type": "code",
   "execution_count": 19,
   "metadata": {},
   "outputs": [
    {
     "ename": "ModuleNotFoundError",
     "evalue": "No module named 'pyarrow'",
     "output_type": "error",
     "traceback": [
      "\u001b[0;31m---------------------------------------------------------------------------\u001b[0m",
      "\u001b[0;31mModuleNotFoundError\u001b[0m                       Traceback (most recent call last)",
      "\u001b[0;32m/tmp/ipykernel_36046/3530272644.py\u001b[0m in \u001b[0;36m?\u001b[0;34m()\u001b[0m\n\u001b[0;32m----> 1\u001b[0;31m \u001b[0mSchema_Opendata\u001b[0m\u001b[0;34m.\u001b[0m\u001b[0mvalidate\u001b[0m\u001b[0;34m(\u001b[0m\u001b[0mdata\u001b[0m\u001b[0;34m.\u001b[0m\u001b[0mto_pandas\u001b[0m\u001b[0;34m(\u001b[0m\u001b[0;34m)\u001b[0m\u001b[0;34m)\u001b[0m\u001b[0;34m\u001b[0m\u001b[0;34m\u001b[0m\u001b[0m\n\u001b[0m",
      "\u001b[0;32m~/mambaforge/envs/pandera_and_polars/lib/python3.12/site-packages/polars/dataframe/frame.py\u001b[0m in \u001b[0;36m?\u001b[0;34m(self, use_pyarrow_extension_array, **kwargs)\u001b[0m\n\u001b[1;32m   2089\u001b[0m             return self._to_pandas_with_object_columns(\n\u001b[1;32m   2090\u001b[0m                 \u001b[0muse_pyarrow_extension_array\u001b[0m\u001b[0;34m=\u001b[0m\u001b[0muse_pyarrow_extension_array\u001b[0m\u001b[0;34m,\u001b[0m \u001b[0;34m**\u001b[0m\u001b[0mkwargs\u001b[0m\u001b[0;34m\u001b[0m\u001b[0;34m\u001b[0m\u001b[0m\n\u001b[1;32m   2091\u001b[0m             \u001b[0;34m)\u001b[0m\u001b[0;34m\u001b[0m\u001b[0;34m\u001b[0m\u001b[0m\n\u001b[1;32m   2092\u001b[0m \u001b[0;34m\u001b[0m\u001b[0m\n\u001b[0;32m-> 2093\u001b[0;31m         return self._to_pandas_without_object_columns(\n\u001b[0m\u001b[1;32m   2094\u001b[0m             \u001b[0mself\u001b[0m\u001b[0;34m,\u001b[0m \u001b[0muse_pyarrow_extension_array\u001b[0m\u001b[0;34m=\u001b[0m\u001b[0muse_pyarrow_extension_array\u001b[0m\u001b[0;34m,\u001b[0m \u001b[0;34m**\u001b[0m\u001b[0mkwargs\u001b[0m\u001b[0;34m\u001b[0m\u001b[0;34m\u001b[0m\u001b[0m\n\u001b[1;32m   2095\u001b[0m         \u001b[0;34m)\u001b[0m\u001b[0;34m\u001b[0m\u001b[0;34m\u001b[0m\u001b[0m\n",
      "\u001b[0;32m~/mambaforge/envs/pandera_and_polars/lib/python3.12/site-packages/polars/dataframe/frame.py\u001b[0m in \u001b[0;36m?\u001b[0;34m(self, df, use_pyarrow_extension_array, **kwargs)\u001b[0m\n\u001b[1;32m   2140\u001b[0m     \u001b[0;34m)\u001b[0m \u001b[0;34m->\u001b[0m \u001b[0mpd\u001b[0m\u001b[0;34m.\u001b[0m\u001b[0mDataFrame\u001b[0m\u001b[0;34m:\u001b[0m\u001b[0;34m\u001b[0m\u001b[0;34m\u001b[0m\u001b[0m\n\u001b[1;32m   2141\u001b[0m         \u001b[0;32mif\u001b[0m \u001b[0;32mnot\u001b[0m \u001b[0mdf\u001b[0m\u001b[0;34m.\u001b[0m\u001b[0mwidth\u001b[0m\u001b[0;34m:\u001b[0m  \u001b[0;31m# Empty dataframe, cannot infer schema from batches\u001b[0m\u001b[0;34m\u001b[0m\u001b[0;34m\u001b[0m\u001b[0m\n\u001b[1;32m   2142\u001b[0m             \u001b[0;32mreturn\u001b[0m \u001b[0mpd\u001b[0m\u001b[0;34m.\u001b[0m\u001b[0mDataFrame\u001b[0m\u001b[0;34m(\u001b[0m\u001b[0;34m)\u001b[0m\u001b[0;34m\u001b[0m\u001b[0;34m\u001b[0m\u001b[0m\n\u001b[1;32m   2143\u001b[0m \u001b[0;34m\u001b[0m\u001b[0m\n\u001b[0;32m-> 2144\u001b[0;31m         \u001b[0mrecord_batches\u001b[0m \u001b[0;34m=\u001b[0m \u001b[0mdf\u001b[0m\u001b[0;34m.\u001b[0m\u001b[0m_df\u001b[0m\u001b[0;34m.\u001b[0m\u001b[0mto_pandas\u001b[0m\u001b[0;34m(\u001b[0m\u001b[0;34m)\u001b[0m\u001b[0;34m\u001b[0m\u001b[0;34m\u001b[0m\u001b[0m\n\u001b[0m\u001b[1;32m   2145\u001b[0m         \u001b[0mtbl\u001b[0m \u001b[0;34m=\u001b[0m \u001b[0mpa\u001b[0m\u001b[0;34m.\u001b[0m\u001b[0mTable\u001b[0m\u001b[0;34m.\u001b[0m\u001b[0mfrom_batches\u001b[0m\u001b[0;34m(\u001b[0m\u001b[0mrecord_batches\u001b[0m\u001b[0;34m)\u001b[0m\u001b[0;34m\u001b[0m\u001b[0;34m\u001b[0m\u001b[0m\n\u001b[1;32m   2146\u001b[0m         \u001b[0;32mif\u001b[0m \u001b[0muse_pyarrow_extension_array\u001b[0m\u001b[0;34m:\u001b[0m\u001b[0;34m\u001b[0m\u001b[0;34m\u001b[0m\u001b[0m\n\u001b[1;32m   2147\u001b[0m             return tbl.to_pandas(\n",
      "\u001b[0;31mModuleNotFoundError\u001b[0m: No module named 'pyarrow'"
     ]
    }
   ],
   "source": []
  },
  {
   "cell_type": "markdown",
   "metadata": {},
   "source": [
    "## Write Data to DUCKDB"
   ]
  },
  {
   "cell_type": "code",
   "execution_count": 3,
   "metadata": {},
   "outputs": [],
   "source": [
    "import duckdb"
   ]
  },
  {
   "cell_type": "code",
   "execution_count": 8,
   "metadata": {},
   "outputs": [
    {
     "data": {
      "text/plain": [
       "'https://phl.carto.com/api/v2/sql?q=SELECT+%2A+FROM+PERMITS+WHERE+permitissuedate+%3C%3D+%2706%2F19%2F2024%27+AND+permitissuedate+%3E%3D+%2706%2F19%2F2023%27&format=CSV'"
      ]
     },
     "execution_count": 8,
     "metadata": {},
     "output_type": "execute_result"
    }
   ],
   "source": [
    "phillyOpenData.cartoApi(query).request_url"
   ]
  },
  {
   "cell_type": "code",
   "execution_count": 15,
   "metadata": {},
   "outputs": [
    {
     "data": {
      "text/plain": [
       "┌──────────────────────────────────────────┬──────────────┐\n",
       "│                opa_owner                 │ count_star() │\n",
       "│                 varchar                  │    int64     │\n",
       "├──────────────────────────────────────────┼──────────────┤\n",
       "│ NULL                                     │         1222 │\n",
       "│ PHILADELPHIA HOUSING AUTH                │          710 │\n",
       "│ PHILADELPHIA LAND BANK                   │          364 │\n",
       "│ CIVETTA 2 LLC                            │          311 │\n",
       "│ CITY OF PHILA                            │          248 │\n",
       "│ TRS UNIV OF PENN                         │          172 │\n",
       "│ CITY OF PHILA, DEPT OF PUBLIC PROP       │          166 │\n",
       "│ REDEVELOPMENT AUTHORITY, OF PHILADELPHIA │          160 │\n",
       "│ TRUSTEES OF THE UNIVERSIT                │          133 │\n",
       "│ FAIRMOUNT MANOR REALTY CO                │          111 │\n",
       "│             ·                            │            · │\n",
       "│             ·                            │            · │\n",
       "│             ·                            │            · │\n",
       "│ BOSWELL BARBARA, SMICKLE ANNE E          │            1 │\n",
       "│ 2204 WALNUT STUDIOS LIMITED PARTNERSHIP  │            1 │\n",
       "│ SYDENHAM ARMS LP                         │            1 │\n",
       "│ JULIA BRIAN, RAWLING-JULIA JEANNETTE J   │            1 │\n",
       "│ TOURLITIS STAMATIA, MISIRIOTIS KATINA    │            1 │\n",
       "│ SCOTT MARTHA L                           │            1 │\n",
       "│ HUDGINS JOSEPH C                         │            1 │\n",
       "│ VOLUNTAD LEE M                           │            1 │\n",
       "│ FIP MASTER FUNDING VIII LLC              │            1 │\n",
       "│ JOHNSON NANNETT P, COLTER ALICIA         │            1 │\n",
       "├──────────────────────────────────────────┴──────────────┤\n",
       "│ ? rows (>9999 rows, 20 shown)                 2 columns │\n",
       "└─────────────────────────────────────────────────────────┘"
      ]
     },
     "execution_count": 15,
     "metadata": {},
     "output_type": "execute_result"
    }
   ],
   "source": [
    "duckdb.sql(\n",
    "    '''\n",
    "    SELECT\n",
    "        OPA_OWNER,\n",
    "        COUNT(*)\n",
    "    FROM\n",
    "        data\n",
    "    GROUP BY\n",
    "        OPA_OWNER\n",
    "    ORDER BY\n",
    "        COUNT(*) DESC\n",
    "    '''\n",
    ")"
   ]
  },
  {
   "cell_type": "code",
   "execution_count": 11,
   "metadata": {},
   "outputs": [
    {
     "data": {
      "text/plain": [
       "['the_geom',\n",
       " 'cartodb_id',\n",
       " 'the_geom_webmercator',\n",
       " 'objectid',\n",
       " 'permitnumber',\n",
       " 'addressobjectid',\n",
       " 'parcel_id_num',\n",
       " 'permittype',\n",
       " 'permitdescription',\n",
       " 'commercialorresidential',\n",
       " 'typeofwork',\n",
       " 'approvedscopeofwork',\n",
       " 'permitissuedate',\n",
       " 'status',\n",
       " 'applicanttype',\n",
       " 'contractorname',\n",
       " 'contractoraddress1',\n",
       " 'contractoraddress2',\n",
       " 'contractorcity',\n",
       " 'contractorstate',\n",
       " 'contractorzip',\n",
       " 'mostrecentinsp',\n",
       " 'opa_account_num',\n",
       " 'address',\n",
       " 'unit_type',\n",
       " 'unit_num',\n",
       " 'zip',\n",
       " 'censustract',\n",
       " 'council_district',\n",
       " 'opa_owner',\n",
       " 'systemofrecord',\n",
       " 'geocode_x',\n",
       " 'geocode_y',\n",
       " 'posse_jobid']"
      ]
     },
     "execution_count": 11,
     "metadata": {},
     "output_type": "execute_result"
    }
   ],
   "source": [
    "data.columns"
   ]
  },
  {
   "cell_type": "code",
   "execution_count": null,
   "metadata": {},
   "outputs": [],
   "source": []
  }
 ],
 "metadata": {
  "kernelspec": {
   "display_name": "pandera_and_polars",
   "language": "python",
   "name": "python3"
  },
  "language_info": {
   "codemirror_mode": {
    "name": "ipython",
    "version": 3
   },
   "file_extension": ".py",
   "mimetype": "text/x-python",
   "name": "python",
   "nbconvert_exporter": "python",
   "pygments_lexer": "ipython3",
   "version": "3.11.9"
  }
 },
 "nbformat": 4,
 "nbformat_minor": 2
}
